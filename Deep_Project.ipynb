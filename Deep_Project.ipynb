{
 "cells": [
  {
   "cell_type": "code",
   "execution_count": 1,
   "id": "c2d10926",
   "metadata": {},
   "outputs": [],
   "source": [
    "import os, shutil\n",
    "import os, random\n",
    "from tensorflow import keras\n",
    "from keras.preprocessing.image import ImageDataGenerator\n",
    "from keras import layers\n",
    "from keras import models\n",
    "from keras import optimizers\n",
    "\n",
    "\n",
    "original_close_dir = 'E:/DS8/FinalProject/Deep_Project/closes'\n",
    "original_open_dir = 'E:/DS8/FinalProject/Deep_Project/opens'"
   ]
  },
  {
   "cell_type": "code",
   "execution_count": null,
   "id": "44e40852",
   "metadata": {},
   "outputs": [],
   "source": [
    "base_dir = 'C:/Users/sepehr/Data_Project/close&open'\n",
    "os.mkdir(base_dir)\n",
    "\n",
    "train_dir = os.path.join(base_dir, 'train')\n",
    "os.mkdir(train_dir)\n",
    "validation_dir = os.path.join(base_dir, 'validation')\n",
    "os.mkdir(validation_dir)\n",
    "test_dir = os.path.join(base_dir, 'test')\n",
    "os.mkdir(test_dir)\n",
    "\n",
    "# Directory with our training close pictures\n",
    "train_close_dir = os.path.join(train_dir, 'close')\n",
    "os.mkdir(train_close_dir)\n",
    "\n",
    "# Directory with our validation close pictures\n",
    "validation_close_dir = os.path.join(validation_dir, 'close')\n",
    "os.mkdir(validation_close_dir)\n",
    "\n",
    "# Directory with our validation close pictures\n",
    "test_close_dir = os.path.join(test_dir, 'close')\n",
    "os.mkdir(test_close_dir)\n",
    "\n",
    "# Directory with our training open pictures\n",
    "train_open_dir = os.path.join(train_dir, 'open')\n",
    "os.mkdir(train_open_dir)\n",
    "\n",
    "# Directory with our validation open pictures\n",
    "validation_open_dir = os.path.join(validation_dir, 'open')\n",
    "os.mkdir(validation_open_dir)\n",
    "\n",
    "# Directory with our validation open pictures\n",
    "test_open_dir = os.path.join(test_dir, 'open')\n",
    "os.mkdir(test_open_dir)  \n",
    "\n",
    "# Copy first 1000 close images to train_close_dir\n",
    "fnames_closetrain = [random.choice(os.listdir(original_close_dir)) for i in range(1300)]\n",
    "for fname in fnames_closetrain:\n",
    "    src = os.path.join(original_close_dir, fname)\n",
    "    dst = os.path.join(train_close_dir, fname)\n",
    "    shutil.copyfile(src, dst)\n",
    "\n",
    "# Copy next 500 close images to validation_close_dir\n",
    "fnames_closevalid = []\n",
    "for i in range(800):\n",
    "    file = random.choice(os.listdir(original_close_dir))\n",
    "    if(file in fnames_closetrain): continue\n",
    "    else: fnames_closevalid.append(file)\n",
    "\n",
    "for fname in fnames_closevalid:\n",
    "    src = os.path.join(original_close_dir, fname)\n",
    "    dst = os.path.join(validation_close_dir, fname)\n",
    "    shutil.copyfile(src, dst)\n",
    "    \n",
    "# Copy next 500 close images to test_close_dir\n",
    "fnames_closetest = []\n",
    "for i in range(800):\n",
    "    file = random.choice(os.listdir(original_close_dir))\n",
    "    if(file in fnames_closetrain or file in fnames_closevalid): continue\n",
    "    else: fnames_closetest.append(file)\n",
    "    \n",
    "for fname in fnames_closetest:\n",
    "    src = os.path.join(original_close_dir, fname)\n",
    "    dst = os.path.join(test_close_dir, fname)\n",
    "    shutil.copyfile(src, dst)  \n",
    "\n",
    "# Copy first 1000 open images to train_open_dir\n",
    "fnames_opentrain = [random.choice(os.listdir(original_open_dir)) for i in range(1300)]\n",
    "for fname in fnames_opentrain:\n",
    "    src = os.path.join(original_open_dir, fname)\n",
    "    dst = os.path.join(train_open_dir, fname)\n",
    "    shutil.copyfile(src, dst)\n",
    "    \n",
    "# Copy next 500 open images to validation_open_dir\n",
    "fnames_openvalid = []\n",
    "for i in range(800):\n",
    "    file = random.choice(os.listdir(original_open_dir))\n",
    "    if(file in fnames_opentrain): continue\n",
    "    else: fnames_openvalid.append(file)\n",
    "        \n",
    "for fname in fnames_openvalid:\n",
    "    src = os.path.join(original_open_dir, fname)\n",
    "    dst = os.path.join(validation_open_dir, fname)\n",
    "    shutil.copyfile(src, dst)\n",
    "    \n",
    "# Copy next 500 open images to test_open_dir\n",
    "fnames_opentest = []\n",
    "for i in range(800):\n",
    "    file = random.choice(os.listdir(original_open_dir))\n",
    "    if(file in fnames_opentest or file in fnames_openvalid): continue\n",
    "    else: fnames_opentest.append(file)\n",
    "        \n",
    "for fname in fnames_opentest:\n",
    "    src = os.path.join(original_open_dir, fname)\n",
    "    dst = os.path.join(test_open_dir, fname)\n",
    "    shutil.copyfile(src, dst)"
   ]
  },
  {
   "cell_type": "markdown",
   "id": "6651493e",
   "metadata": {},
   "source": [
    "Data preprocessing"
   ]
  },
  {
   "cell_type": "code",
   "execution_count": 2,
   "id": "85812f0d",
   "metadata": {},
   "outputs": [
    {
     "name": "stdout",
     "output_type": "stream",
     "text": [
      "Found 2000 images belonging to 2 classes.\n",
      "Found 1000 images belonging to 2 classes.\n"
     ]
    }
   ],
   "source": [
    "train_datagen = ImageDataGenerator(rescale=1./255)\n",
    "test_datagen = ImageDataGenerator(rescale=1./255)\n",
    "\n",
    "train_generator = train_datagen.flow_from_directory(\n",
    "        'C:/Users/sepehr/Data_Project/close&open/train',\n",
    "        target_size=(40, 40),\n",
    "        batch_size=20,\n",
    "        class_mode='binary')\n",
    "\n",
    "validation_generator = test_datagen.flow_from_directory(\n",
    "        'C:/Users/sepehr/Data_Project/close&open/validation',\n",
    "        target_size=(40, 40),\n",
    "        batch_size=20,\n",
    "        class_mode='binary')"
   ]
  },
  {
   "cell_type": "code",
   "execution_count": 3,
   "id": "cc6ec20d",
   "metadata": {},
   "outputs": [
    {
     "name": "stdout",
     "output_type": "stream",
     "text": [
      "data batch shape: (20, 40, 40, 3)\n",
      "labels batch shape: (20,)\n"
     ]
    }
   ],
   "source": [
    "for data_batch, labels_batch in train_generator:\n",
    "    print('data batch shape:', data_batch.shape)\n",
    "    print('labels batch shape:', labels_batch.shape)\n",
    "    break"
   ]
  },
  {
   "cell_type": "markdown",
   "id": "9fd40864",
   "metadata": {},
   "source": [
    "model architecture"
   ]
  },
  {
   "cell_type": "code",
   "execution_count": 4,
   "id": "7002ef22",
   "metadata": {},
   "outputs": [],
   "source": [
    "model = models.Sequential()\n",
    "model.add(layers.Conv2D(32, (3, 3), activation='relu',\n",
    "                        input_shape=(40, 40, 3)))\n",
    "model.add(layers.MaxPooling2D((2, 2)))\n",
    "model.add(layers.Conv2D(64, (3, 3), activation='relu'))\n",
    "model.add(layers.MaxPooling2D((2, 2)))\n",
    "model.add(layers.Conv2D(128, (3, 3), activation='relu'))\n",
    "model.add(layers.Conv2D(128, (3, 3), activation='relu'))\n",
    "model.add(layers.Flatten())\n",
    "model.add(layers.Dense(512, activation='relu'))\n",
    "model.add(layers.Dense(1, activation='sigmoid'))"
   ]
  },
  {
   "cell_type": "code",
   "execution_count": 5,
   "id": "a5793e1e",
   "metadata": {},
   "outputs": [
    {
     "name": "stdout",
     "output_type": "stream",
     "text": [
      "Model: \"sequential\"\n",
      "_________________________________________________________________\n",
      " Layer (type)                Output Shape              Param #   \n",
      "=================================================================\n",
      " conv2d (Conv2D)             (None, 38, 38, 32)        896       \n",
      "                                                                 \n",
      " max_pooling2d (MaxPooling2D  (None, 19, 19, 32)       0         \n",
      " )                                                               \n",
      "                                                                 \n",
      " conv2d_1 (Conv2D)           (None, 17, 17, 64)        18496     \n",
      "                                                                 \n",
      " max_pooling2d_1 (MaxPooling  (None, 8, 8, 64)         0         \n",
      " 2D)                                                             \n",
      "                                                                 \n",
      " conv2d_2 (Conv2D)           (None, 6, 6, 128)         73856     \n",
      "                                                                 \n",
      " conv2d_3 (Conv2D)           (None, 4, 4, 128)         147584    \n",
      "                                                                 \n",
      " flatten (Flatten)           (None, 2048)              0         \n",
      "                                                                 \n",
      " dense (Dense)               (None, 512)               1049088   \n",
      "                                                                 \n",
      " dense_1 (Dense)             (None, 1)                 513       \n",
      "                                                                 \n",
      "=================================================================\n",
      "Total params: 1,290,433\n",
      "Trainable params: 1,290,433\n",
      "Non-trainable params: 0\n",
      "_________________________________________________________________\n"
     ]
    }
   ],
   "source": [
    "model.summary()"
   ]
  },
  {
   "cell_type": "code",
   "execution_count": 5,
   "id": "e06ac87f",
   "metadata": {},
   "outputs": [
    {
     "name": "stderr",
     "output_type": "stream",
     "text": [
      "C:\\ProgramData\\Anaconda3\\lib\\site-packages\\keras\\optimizers\\optimizer_v2\\rmsprop.py:135: UserWarning: The `lr` argument is deprecated, use `learning_rate` instead.\n",
      "  super(RMSprop, self).__init__(name, **kwargs)\n"
     ]
    }
   ],
   "source": [
    "model.compile(loss='binary_crossentropy',\n",
    "              optimizer=optimizers.RMSprop(lr=1e-4),\n",
    "              metrics=['acc'])"
   ]
  },
  {
   "cell_type": "code",
   "execution_count": 6,
   "id": "da85e8b5",
   "metadata": {},
   "outputs": [
    {
     "name": "stdout",
     "output_type": "stream",
     "text": [
      "Epoch 1/30\n",
      "100/100 [==============================] - 8s 70ms/step - loss: 0.3932 - acc: 0.8545 - val_loss: 0.2393 - val_acc: 0.9080\n",
      "Epoch 2/30\n",
      "100/100 [==============================] - 4s 36ms/step - loss: 0.2034 - acc: 0.9230 - val_loss: 0.1564 - val_acc: 0.9420\n",
      "Epoch 3/30\n",
      "100/100 [==============================] - 4s 39ms/step - loss: 0.1466 - acc: 0.9470 - val_loss: 0.1054 - val_acc: 0.9710\n",
      "Epoch 4/30\n",
      "100/100 [==============================] - 4s 41ms/step - loss: 0.1077 - acc: 0.9605 - val_loss: 0.1088 - val_acc: 0.9640\n",
      "Epoch 5/30\n",
      "100/100 [==============================] - 4s 39ms/step - loss: 0.0864 - acc: 0.9700 - val_loss: 0.0597 - val_acc: 0.9830\n",
      "Epoch 6/30\n",
      "100/100 [==============================] - 4s 37ms/step - loss: 0.0677 - acc: 0.9765 - val_loss: 0.0607 - val_acc: 0.9840\n",
      "Epoch 7/30\n",
      "100/100 [==============================] - 4s 41ms/step - loss: 0.0642 - acc: 0.9785 - val_loss: 0.0725 - val_acc: 0.9720\n",
      "Epoch 8/30\n",
      "100/100 [==============================] - 4s 41ms/step - loss: 0.0566 - acc: 0.9825 - val_loss: 0.0597 - val_acc: 0.9790\n",
      "Epoch 9/30\n",
      "100/100 [==============================] - 4s 38ms/step - loss: 0.0491 - acc: 0.9845 - val_loss: 0.0643 - val_acc: 0.9770\n",
      "Epoch 10/30\n",
      "100/100 [==============================] - 4s 36ms/step - loss: 0.0475 - acc: 0.9830 - val_loss: 0.0445 - val_acc: 0.9870\n",
      "Epoch 11/30\n",
      "100/100 [==============================] - 4s 39ms/step - loss: 0.0389 - acc: 0.9865 - val_loss: 0.0470 - val_acc: 0.9870\n",
      "Epoch 12/30\n",
      "100/100 [==============================] - 4s 41ms/step - loss: 0.0375 - acc: 0.9850 - val_loss: 0.0371 - val_acc: 0.9950\n",
      "Epoch 13/30\n",
      "100/100 [==============================] - 4s 40ms/step - loss: 0.0307 - acc: 0.9905 - val_loss: 0.0779 - val_acc: 0.9730\n",
      "Epoch 14/30\n",
      "100/100 [==============================] - 4s 38ms/step - loss: 0.0290 - acc: 0.9895 - val_loss: 0.0367 - val_acc: 0.9950\n",
      "Epoch 15/30\n",
      "100/100 [==============================] - 4s 41ms/step - loss: 0.0253 - acc: 0.9895 - val_loss: 0.0331 - val_acc: 0.9940\n",
      "Epoch 16/30\n",
      "100/100 [==============================] - 4s 43ms/step - loss: 0.0204 - acc: 0.9925 - val_loss: 0.0395 - val_acc: 0.9930\n",
      "Epoch 17/30\n",
      "100/100 [==============================] - 4s 37ms/step - loss: 0.0190 - acc: 0.9940 - val_loss: 0.0362 - val_acc: 0.9930\n",
      "Epoch 18/30\n",
      "100/100 [==============================] - 4s 40ms/step - loss: 0.0151 - acc: 0.9955 - val_loss: 0.0380 - val_acc: 0.9920\n",
      "Epoch 19/30\n",
      "100/100 [==============================] - 4s 40ms/step - loss: 0.0125 - acc: 0.9950 - val_loss: 0.1223 - val_acc: 0.9630\n",
      "Epoch 20/30\n",
      "100/100 [==============================] - 4s 42ms/step - loss: 0.0129 - acc: 0.9955 - val_loss: 0.0433 - val_acc: 0.9910\n",
      "Epoch 21/30\n",
      "100/100 [==============================] - 4s 42ms/step - loss: 0.0094 - acc: 0.9965 - val_loss: 0.0366 - val_acc: 0.9920\n",
      "Epoch 22/30\n",
      "100/100 [==============================] - 4s 42ms/step - loss: 0.0093 - acc: 0.9975 - val_loss: 0.0587 - val_acc: 0.9880\n",
      "Epoch 23/30\n",
      "100/100 [==============================] - 4s 40ms/step - loss: 0.0078 - acc: 0.9980 - val_loss: 0.0632 - val_acc: 0.9870\n",
      "Epoch 24/30\n",
      "100/100 [==============================] - 4s 41ms/step - loss: 0.0073 - acc: 0.9980 - val_loss: 0.0448 - val_acc: 0.9940\n",
      "Epoch 25/30\n",
      "100/100 [==============================] - 4s 40ms/step - loss: 0.0072 - acc: 0.9970 - val_loss: 0.0526 - val_acc: 0.9930\n",
      "Epoch 26/30\n",
      "100/100 [==============================] - 4s 40ms/step - loss: 0.0045 - acc: 0.9990 - val_loss: 0.0744 - val_acc: 0.9860\n",
      "Epoch 27/30\n",
      "100/100 [==============================] - 4s 40ms/step - loss: 0.0064 - acc: 0.9975 - val_loss: 0.1006 - val_acc: 0.9810\n",
      "Epoch 28/30\n",
      "100/100 [==============================] - 4s 41ms/step - loss: 0.0051 - acc: 0.9975 - val_loss: 0.0535 - val_acc: 0.9920\n",
      "Epoch 29/30\n",
      "100/100 [==============================] - 4s 41ms/step - loss: 0.0015 - acc: 1.0000 - val_loss: 0.0591 - val_acc: 0.9930\n",
      "Epoch 30/30\n",
      "100/100 [==============================] - 4s 39ms/step - loss: 0.0020 - acc: 0.9995 - val_loss: 0.1093 - val_acc: 0.9810\n"
     ]
    }
   ],
   "source": [
    "history = model.fit(\n",
    "      train_generator,\n",
    "      steps_per_epoch=100,\n",
    "      epochs=30,\n",
    "      validation_data=validation_generator,\n",
    "      validation_steps=50)"
   ]
  },
  {
   "cell_type": "code",
   "execution_count": 7,
   "id": "2cc6085c",
   "metadata": {},
   "outputs": [
    {
     "data": {
      "image/png": "[encoded data removed]",
      "text/plain": [
       "<Figure size 432x288 with 1 Axes>"
      ]
     },
     "metadata": {
      "needs_background": "light"
     },
     "output_type": "display_data"
    },
    {
     "data": {
      "image/png": "[encoded data removed]",
      "text/plain": [
       "<Figure size 432x288 with 1 Axes>"
      ]
     },
     "metadata": {
      "needs_background": "light"
     },
     "output_type": "display_data"
    }
   ],
   "source": [
    "import matplotlib.pyplot as plt\n",
    "%matplotlib inline\n",
    "acc = history.history['acc']\n",
    "val_acc = history.history['val_acc']\n",
    "loss = history.history['loss']\n",
    "val_loss = history.history['val_loss']\n",
    "\n",
    "epochs = range(len(acc))\n",
    "\n",
    "plt.plot(epochs, acc, 'bo', label='Training acc')\n",
    "plt.plot(epochs, val_acc, 'b', label='Validation acc')\n",
    "plt.title('Training and validation accuracy')\n",
    "plt.legend()\n",
    "\n",
    "plt.figure()\n",
    "\n",
    "plt.plot(epochs, loss, 'bo', label='Training loss')\n",
    "plt.plot(epochs, val_loss, 'b', label='Validation loss')\n",
    "plt.title('Training and validation loss')\n",
    "plt.legend()\n",
    "\n",
    "plt.show()"
   ]
  },
  {
   "cell_type": "code",
   "execution_count": null,
   "id": "7c099d4c",
   "metadata": {},
   "outputs": [],
   "source": []
  }
 ],
 "metadata": {
  "kernelspec": {
   "display_name": "Python 3 (ipykernel)",
   "language": "python",
   "name": "python3"
  },
  "language_info": {
   "codemirror_mode": {
    "name": "ipython",
    "version": 3
   },
   "file_extension": ".py",
   "mimetype": "text/x-python",
   "name": "python",
   "nbconvert_exporter": "python",
   "pygments_lexer": "ipython3",
   "version": "3.9.7"
  }
 },
 "nbformat": 4,
 "nbformat_minor": 5
}
